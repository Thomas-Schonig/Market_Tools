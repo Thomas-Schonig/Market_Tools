{
 "cells": [
  {
   "cell_type": "code",
   "execution_count": 1,
   "metadata": {},
   "outputs": [],
   "source": [
    "import pandas as pd\n",
    "import urllib.request as ur\n",
    "from datetime import date, timedelta, datetime\n",
    "import os"
   ]
  },
  {
   "cell_type": "code",
   "execution_count": 2,
   "metadata": {},
   "outputs": [
    {
     "name": "stdout",
     "output_type": "stream",
     "text": [
      "Old Working Directory: /home/tom/Python\n",
      "New Working Directory: /media/tom/Data2/Alpha Hound/Equity Algo/Exchange FTP\n"
     ]
    }
   ],
   "source": [
    "### ### ### CHANGE WORKING DIRECTORY TO OUR PIPELINE STORAGE ### ### ### \n",
    "print('Old Working Directory:',os.getcwd())\n",
    "os.chdir('/media/tom/Data2/Alpha Hound/Equity Algo/Exchange FTP')\n",
    "print('New Working Directory:',os.getcwd())"
   ]
  },
  {
   "cell_type": "code",
   "execution_count": 3,
   "metadata": {},
   "outputs": [],
   "source": [
    "today = date.today()\n",
    "#nasdaq_date = today.strftime('%Y%m%d')\n",
    "#nyse_date = today.strftime('%d-%b-%Y')"
   ]
  },
  {
   "cell_type": "code",
   "execution_count": 4,
   "metadata": {},
   "outputs": [],
   "source": [
    "##generator function below taken from stack overflow https://stackoverflow.com/questions/1060279/iterating-through-a-range-of-dates-in-python\n",
    "#generate a range of datetimes to iterate over for the data fetch\n",
    "def daterange(start_date, end_date):\n",
    "    for n in range(int((end_date - start_date).days)):\n",
    "        yield start_date + timedelta(n)"
   ]
  },
  {
   "cell_type": "code",
   "execution_count": 5,
   "metadata": {},
   "outputs": [
    {
     "name": "stderr",
     "output_type": "stream",
     "text": [
      "/home/tom/anaconda3/lib/python3.8/site-packages/IPython/core/interactiveshell.py:3145: DtypeWarning: Columns (8,10) have mixed types.Specify dtype option on import or set low_memory=False.\n",
      "  has_raised = await self.run_ast_nodes(code_ast.body, cell_name,\n"
     ]
    }
   ],
   "source": [
    "df = pd.read_csv('SSR_circuit_breakers.csv')\n",
    "df = df.sort_values(by='date')\n",
    "last_date = df['date'].iloc[-1]\n",
    "last_date = datetime.strptime(last_date,'%Y-%m-%d')\n",
    "#df['date'] = pd.to_datetime(df['date'])"
   ]
  },
  {
   "cell_type": "code",
   "execution_count": 6,
   "metadata": {},
   "outputs": [],
   "source": [
    "start_date = last_date.date()\n",
    "end_date = today + timedelta(days=1)"
   ]
  },
  {
   "cell_type": "code",
   "execution_count": 7,
   "metadata": {},
   "outputs": [],
   "source": [
    "nasdaq_fails = []\n",
    "nyse_fails = []\n",
    "\n",
    "for single_date in daterange(start_date, end_date):\n",
    "    try:\n",
    "        query_date = single_date.strftime(\"%Y%m%d\")\n",
    "        url = 'ftp://ftp.nasdaqtrader.com/SymbolDirectory/shorthalts/shorthalts{0}.txt'.format(query_date)\n",
    "        req = ur.Request(url)\n",
    "        data = ur.urlopen(req)\n",
    "        data = pd.read_csv(data,sep=\",\")\n",
    "        data.drop(data.tail(1).index,inplace=True)\n",
    "        data['Trigger Time'] = pd.to_datetime(data['Trigger Time'])\n",
    "        data['date'] = single_date\n",
    "        data['exchange'] = 'NASDAQ'\n",
    "        #print(data)\n",
    "        df = df.append(data,ignore_index=True)\n",
    "    except:\n",
    "        nasdaq_fails.append(single_date)\n",
    "    try:\n",
    "        year = single_date.strftime('%Y')\n",
    "        year_month = single_date.strftime('%Y%m')\n",
    "        query_date = single_date.strftime('%Y%m%d')\n",
    "        url = 'ftp://ftp.nyse.com/NYSEGroupSSRCircuitBreakers/NYSEGroupSSRCircuitBreakers_{}/NYSEGroupSSRCircuitBreakers_{}/NYSEGroupSSRCircuitBreakers{}.xls'.format(year,year_month,query_date)\n",
    "        data = pd.read_excel(url)\n",
    "        data = data.rename(columns = {'Issue Symbol':'Symbol','Issue Name':'Security Name'})\n",
    "        data['Trigger Time'] = data['Trigger Date'] + ' '+ data['Trigger Time']\n",
    "        data['Trigger Time'] = pd.to_datetime(data['Trigger Time'])\n",
    "        data = data.drop(columns='Trigger Date')\n",
    "        #print(single_date)\n",
    "        data['date'] = single_date\n",
    "        data['exchange'] = 'NYSE'\n",
    "        #print(data)\n",
    "        df = df.append(data,ignore_index=True)\n",
    "    except:\n",
    "        nyse_fails.append(single_date)"
   ]
  },
  {
   "cell_type": "code",
   "execution_count": 8,
   "metadata": {},
   "outputs": [],
   "source": [
    "df.to_csv('SSR_circuit_breakers.csv',index=False)"
   ]
  },
  {
   "cell_type": "code",
   "execution_count": 9,
   "metadata": {},
   "outputs": [
    {
     "name": "stdout",
     "output_type": "stream",
     "text": [
      "0\n",
      "1\n"
     ]
    }
   ],
   "source": [
    "print(len(nasdaq_fails))\n",
    "print(len(nyse_fails))"
   ]
  },
  {
   "cell_type": "code",
   "execution_count": null,
   "metadata": {},
   "outputs": [],
   "source": []
  },
  {
   "cell_type": "code",
   "execution_count": null,
   "metadata": {},
   "outputs": [],
   "source": []
  }
 ],
 "metadata": {
  "kernelspec": {
   "display_name": "Python 3",
   "language": "python",
   "name": "python3"
  },
  "language_info": {
   "codemirror_mode": {
    "name": "ipython",
    "version": 3
   },
   "file_extension": ".py",
   "mimetype": "text/x-python",
   "name": "python",
   "nbconvert_exporter": "python",
   "pygments_lexer": "ipython3",
   "version": "3.8.3"
  }
 },
 "nbformat": 4,
 "nbformat_minor": 4
}
